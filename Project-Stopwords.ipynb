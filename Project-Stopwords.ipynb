{
 "cells": [
  {
   "cell_type": "code",
   "execution_count": null,
   "metadata": {},
   "outputs": [],
   "source": [
    "#importing necessary libraries\n",
    "import sys\n",
    "import nltk\n",
    "import pandas as pd\n",
    "import re"
   ]
  },
  {
   "cell_type": "code",
   "execution_count": null,
   "metadata": {},
   "outputs": [],
   "source": [
    "#Load the drreddit dataset \n",
    "df = pd.read_csv(\"dreaddit-train.csv\")"
   ]
  },
  {
   "cell_type": "code",
   "execution_count": null,
   "metadata": {},
   "outputs": [],
   "source": [
    "#print useful information about the dataset\n",
    "print(df.info())\n",
    "print(df.head())"
   ]
  },
  {
   "cell_type": "code",
   "execution_count": null,
   "metadata": {},
   "outputs": [],
   "source": [
    "#Display only useful columns\n",
    "NewDf=df.drop(df.columns.difference(['text','label']), 1)\n",
    "NewDf.head()"
   ]
  },
  {
   "cell_type": "code",
   "execution_count": null,
   "metadata": {},
   "outputs": [],
   "source": [
    "#Using Regular Expressions\n",
    "for i in range (0, len(NewDf.text)):\n",
    "    \n",
    "    #replacing occurrences of xxx$, $xxxx with 'money'\n",
    "    NewDf.loc[i, 'text'] = re.sub(r'\\d+\\s*\\$|\\$\\s*\\d+', 'money', NewDf.text[i])\n",
    "    \n",
    "    #replacing occurrences of '<url>' with 'website', cleaning encoding errors\n",
    "    NewDf.loc[i, 'text'] = NewDf.text[i].replace('<url>', 'website')\n",
    "    NewDf.loc[i, 'text'] = NewDf.text[i].replace('â€™', '\\'')\n",
    "    \n",
    "    #removing punctuation marks\n",
    "    NewDf.loc[i, 'text'] = re.sub(r'[^\\w\\s]', '', NewDf.text[i])"
   ]
  },
  {
   "cell_type": "code",
   "execution_count": null,
   "metadata": {},
   "outputs": [],
   "source": [
    "display(NewDf)"
   ]
  },
  {
   "cell_type": "code",
   "execution_count": null,
   "metadata": {},
   "outputs": [],
   "source": [
    "#Changing words to lower case \n",
    "NewDf.text = NewDf.text.str.lower()\n",
    "print(NewDf.text[0])"
   ]
  },
  {
   "cell_type": "code",
   "execution_count": null,
   "metadata": {},
   "outputs": [],
   "source": [
    "#Stopwords Removal\n",
    "from nltk.corpus import stopwords\n",
    "stop_words = set(stopwords.words('english'))\n",
    "\n",
    "NewDf.text = NewDf.text.apply(lambda x: ' '.join(term for term in x.split() if term not in stop_words))\n",
    "print (NewDf)"
   ]
  },
  {
   "cell_type": "code",
   "execution_count": null,
   "metadata": {},
   "outputs": [],
   "source": [
    "#Other methods for stopwords removal\n",
    "\n",
    "#Method 1\n",
    "'''\n",
    "filtered_words = [word for word in all_words if word not in stopwords.words('english')]\n",
    "'''\n",
    "\n",
    "#Method 2\n",
    "'''\n",
    "filtered_words = all_words[:]\n",
    "for word in all_words:\n",
    "    if word in stopwords.words('english'):\n",
    "        filtered_words.remove(word)\n",
    "\n",
    "print(filtered_words)\n",
    "'''"
   ]
  },
  {
   "cell_type": "code",
   "execution_count": null,
   "metadata": {},
   "outputs": [],
   "source": [
    "#Tokenization\n",
    "from nltk.tokenize import word_tokenize"
   ]
  },
  {
   "cell_type": "code",
   "execution_count": null,
   "metadata": {},
   "outputs": [],
   "source": [
    "#Tokenization Method 1\n",
    "NewDf.text = [word_tokenize(i) for i in NewDf.text]\n",
    "for i in NewDf.text:\n",
    "    print (i)"
   ]
  },
  {
   "cell_type": "code",
   "execution_count": null,
   "metadata": {},
   "outputs": [],
   "source": [
    "#Tokenization Method 2\n",
    "all_words = []\n",
    "for word in NewDf.text:\n",
    "    words = word_tokenize(word)\n",
    "    for w in words:\n",
    "        all_words.append(w)\n",
    "        \n",
    "#all_words = nltk.FreqDist(all_words)\n",
    "\n",
    "print(all_words)"
   ]
  },
  {
   "cell_type": "code",
   "execution_count": null,
   "metadata": {},
   "outputs": [],
   "source": [
    "#Stemming\n",
    "ps = nltk.PorterStemmer()\n",
    "NewDf.text = NewDf.text.apply(lambda x: ' '.join(ps.stem(term)for term in x.split()))\n",
    "\n",
    "print(NewDf.text.head())"
   ]
  },
  {
   "cell_type": "code",
   "execution_count": null,
   "metadata": {
    "scrolled": true
   },
   "outputs": [],
   "source": [
    "#Lemmatization\n",
    "\n",
    "from nltk.stem import WordNetLemmatizer\n",
    "nltk.download('wordnet')"
   ]
  },
  {
   "cell_type": "code",
   "execution_count": null,
   "metadata": {},
   "outputs": [],
   "source": [
    "lemmatizer = WordNetLemmatizer()\n",
    "lemmatized_words = [lemmatizer.lemmatize(word) for word in all_words] \n",
    "print(\"The lemmatized words: \", lemmatized_words) \n",
    "lemmatized_words_pos = [lemmatizer.lemmatize(word, pos = \"v\") for word in all_words]\n",
    "print(\"The lemmatized words using a POS tag: \", lemmatized_words_pos)\n",
    "\n",
    "def lemmatizeSentence(sentence):\n",
    "    token_words=word_tokenize(sentence) \n",
    "#we need to tokenize the sentence or else lemmatizing will return the entire sentence as is.\n",
    "    lemma_sentence=[]\n",
    "    for word in token_words:\n",
    "        lemma_sentence.append(lemmatizer.lemmatize(word))\n",
    "        lemma_sentence.append(\" \")\n",
    "    return \"\".join(lemma_sentence)\n",
    "lemma_sentence = lemmatizeSentence(all_words)\n",
    "\n"
   ]
  }
 ],
 "metadata": {
  "kernelspec": {
   "display_name": "Python 3",
   "language": "python",
   "name": "python3"
  },
  "language_info": {
   "codemirror_mode": {
    "name": "ipython",
    "version": 3
   },
   "file_extension": ".py",
   "mimetype": "text/x-python",
   "name": "python",
   "nbconvert_exporter": "python",
   "pygments_lexer": "ipython3",
   "version": "3.7.6"
  }
 },
 "nbformat": 4,
 "nbformat_minor": 4
}
