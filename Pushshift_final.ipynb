{
 "cells": [
  {
   "cell_type": "code",
   "execution_count": 1,
   "metadata": {},
   "outputs": [],
   "source": [
    "#importing necessary libraries\n",
    "import csv\n",
    "import pandas as pd\n",
    "import requests\n",
    "import json\n",
    "import datetime"
   ]
  },
  {
   "cell_type": "code",
   "execution_count": 2,
   "metadata": {},
   "outputs": [],
   "source": [
    "def get_pushshift_data(after, before, sub):\n",
    "    \n",
    "    url = 'https://api.pushshift.io/reddit/search/submission/?&after=' + str(after) + '&before=' + str(before) + '&subreddit=' + str(sub)\n",
    "    r = requests.get(url)\n",
    "    data = json.loads(r.text, strict=False)\n",
    "    return data['data']"
   ]
  },
  {
   "cell_type": "code",
   "execution_count": 3,
   "metadata": {},
   "outputs": [],
   "source": [
    "def collect_sub_data(subm):\n",
    "    \n",
    "    subData = list()  # list to store data points\n",
    "    title = subm['title']\n",
    "    url = subm['url']\n",
    "    try:\n",
    "        flair = subm['link_flair_text']\n",
    "    except KeyError:\n",
    "        flair = \"NaN\"\n",
    "    try:\n",
    "        body = subm['selftext']\n",
    "    except KeyError:\n",
    "        body = ''\n",
    "    author = subm['author']\n",
    "    sub_id = subm['id']\n",
    "    score = subm['score']\n",
    "    created = datetime.datetime.fromtimestamp(subm['created_utc'])  # 1520561700.0\n",
    "    numComms = subm['num_comments']\n",
    "    permalink = subm['permalink']\n",
    "\n",
    "    subData.append((sub_id, title, body, url, author, score, created, numComms, permalink, flair))\n",
    "    subStats[sub_id] = subData\n"
   ]
  },
  {
   "cell_type": "code",
   "execution_count": 4,
   "metadata": {},
   "outputs": [],
   "source": [
    "sub = 'depression'\n",
    "# before and after dates\n",
    "before = \"1601596800\"  \n",
    "after = \"1601510400\"  \n",
    "\n",
    "subCount = 0\n",
    "subStats = {}"
   ]
  },
  {
   "cell_type": "code",
   "execution_count": 5,
   "metadata": {},
   "outputs": [
    {
     "name": "stdout",
     "output_type": "stream",
     "text": [
      "418 submissions have added to list\n",
      "1st entry is:\n",
      "An Erratic Schedule created: 1\n",
      "Last entry is:\n",
      "I can’t take it anymore created: 1\n"
     ]
    }
   ],
   "source": [
    "data = get_pushshift_data(after, before, sub)  # Will run until all posts have been gathered from the 'after' date up until 'before' date\n",
    "while len(data) > 0:\n",
    "    for submission in data:\n",
    "        collect_sub_data(submission)\n",
    "        subCount += 1\n",
    "    # Calls getPushshiftData() with the created date of the last submission\n",
    "    after = data[-1]['created_utc']\n",
    "    data = get_pushshift_data(after, before, sub)\n",
    "\n",
    "print(str(len(subStats)) + \" submissions have added to list\")\n",
    "print(\"1st entry is:\")\n",
    "print(list(subStats.values())[0][0][1] + \" created: \" + str(list(subStats.values())[0][0][5]))\n",
    "print(\"Last entry is:\")\n",
    "print(list(subStats.values())[-1][0][1] + \" created: \" + str(list(subStats.values())[-1][0][5]))\n"
   ]
  },
  {
   "cell_type": "code",
   "execution_count": 6,
   "metadata": {},
   "outputs": [
    {
     "name": "stdout",
     "output_type": "stream",
     "text": [
      "input filename of submission file, please add .csv\n",
      "Dataset.csv\n",
      "418 submissions have been uploaded\n"
     ]
    }
   ],
   "source": [
    "def updateSubs_file():\n",
    "    \n",
    "    upload_count = 0\n",
    "    location = \"C:/Users/SurbhiLaptop/RedditData/\"\n",
    "    print(\"input filename of submission file, please add .csv\")\n",
    "    filename = input()\n",
    "    file = location + filename\n",
    "    with open(file, 'w', newline='', encoding='utf-8') as file:\n",
    "        a = csv.writer(file, delimiter=',')\n",
    "        headers = [\"Post ID\", \"Title\", \"Body\", \"Url\", \"Author\", \"Score\", \"Publish Date\", \"Total No. of Comments\", \"Permalink\",\n",
    "                   \"Flair\"]\n",
    "        a.writerow(headers)\n",
    "        for sub in subStats:\n",
    "            a.writerow(subStats[sub][0])\n",
    "            upload_count += 1\n",
    "\n",
    "        print(str(upload_count) + \" submissions have been uploaded\")\n",
    "        \n",
    "updateSubs_file()        "
   ]
  },
  {
   "cell_type": "code",
   "execution_count": null,
   "metadata": {},
   "outputs": [],
   "source": []
  }
 ],
 "metadata": {
  "kernelspec": {
   "display_name": "Python 3",
   "language": "python",
   "name": "python3"
  },
  "language_info": {
   "codemirror_mode": {
    "name": "ipython",
    "version": 3
   },
   "file_extension": ".py",
   "mimetype": "text/x-python",
   "name": "python",
   "nbconvert_exporter": "python",
   "pygments_lexer": "ipython3",
   "version": "3.7.6"
  }
 },
 "nbformat": 4,
 "nbformat_minor": 4
}
